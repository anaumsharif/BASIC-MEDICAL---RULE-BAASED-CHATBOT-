{
 "cells": [
  {
   "cell_type": "markdown",
   "id": "b1fb9600",
   "metadata": {},
   "source": [
    "#####  Python dictionaries"
   ]
  },
  {
   "cell_type": "code",
   "execution_count": 13,
   "id": "1e17ff62",
   "metadata": {},
   "outputs": [],
   "source": [
    "#Mapping intents with a list of keywords\n",
    "#keys - intents, keywords- list of values\n",
    "intents = {\n",
    "    \"greetings\": [\"hello\",\"hey\",\"hi\",\"good day\",\"greetings\",\"what's up?\",\"how is it going\"],\n",
    "    \"goodbye\": [\"cya\",\"see you later\",\"goodbye\",\"have a good day\",\"bye\",\"cao\",\"see ya\"],\n",
    "    \"age\": [\"how old\",\"how old are you?\",\"what is your age\",\"how old are you\",\"age?\"],\n",
    "    \"name\": [\"what is your name\",\"what should i call you\",\"what's your name?\",\"who are you?\",\"can you tell me your name\"],\n",
    "    \"common cold symptoms\": [\"Runny or stuffy nose\",\"Sore throat\", \"Cough\", \"Congestion\", \"Slight body aches or a mild headache\", \"Sneezing\", \"Low-grade fever\", \"Generally feeling unwell (malaise)\"],\n",
    "    \"fever symptoms\":[\"Sweating\",\"Chills and shivering\",\"Headache\",\"Muscle aches\",\"Loss of appetite\",\"Irritability\",\"Dehydration\",\"General weakness\"],\n",
    "    \"Diabetes symptoms\":[\"increased hunger\",\"increased thirst\",\"weight loss\",\"frequent urination\"\"blurry vision\",\"extreme fatigue\"],\n",
    "    \"Depression symptoms\":[\"Hopeless outlook\",\"Lost interest\",\"Increased fatigue\",\"sleep problem\",\"Anxiety\",\"change in weight\",\"Looking at death\"],\n",
    "    \"Asthma symptoms\":[\"coughing\",\"tightness in the chest\",\"shortness of breath\",\"difficulty talking\",\"panic\",\"fatigue\"],\n",
    "    \"common cold prevention\":[\"What medicines can I buy to help me with my common cold?\",\"tell me some prevention method from common cold\",\"What should I eat or drink if i am suffering from common cold?\",\"How can I keep from getting a cold or the flu?\"],\n",
    "    \"fever prevention\":[\"What medicines can I buy to help me with my fever?\",\"tell me some prevention method from fever\",\"What should I eat or drink if i am suffering from fever?\",\"How can I keep from getting a fever?\"],\n",
    "     \"diabetes prevention\":[\"What medicines can I buy to help me with my diabetes?\",\"tell me some prevention method from diabetes\",\"What should I eat or drink if i am suffering from diabetes?\",\"How can I keep from getting diabetes?\"],\n",
    "    \"depression prevention\":[\"What medicines can I buy to help me with my depression?\",\"tell me some prevention method from depression\",\"What should I eat or drink if i am suffering from depression?\",\"How can I keep from getting depression?\"],\n",
    "    \"asthma prevention\":[\"What medicines can I buy to help me with my asthma?\",\"tell me some prevention method from asthma\",\"What should I eat or drink if i am suffering from asthma?\",\"How can I keep from getting asthma?\"],\n",
    "    \"Consultation\": [\"who should i contact for consultation?\",\"is there any doctor available?\",\"can you give me some suggestions for doctor consultations?\",\"can you set up a meeting with a doctor for consultation?\",\"is there any doctor available for consultation\"],\n",
    "}"
   ]
  },
  {
   "cell_type": "code",
   "execution_count": 8,
   "id": "810c5d2a",
   "metadata": {},
   "outputs": [],
   "source": [
    "import random"
   ]
  },
  {
   "cell_type": "code",
   "execution_count": 9,
   "id": "2b968b0c",
   "metadata": {},
   "outputs": [],
   "source": [
    "responses = {\n",
    "\"greetings\":[\"hello\",\"hey!\",\"what can i do for you?\"],\n",
    "\"goodbye\":[\"have a nice day\",\"goodbye\"],\n",
    "\"age\":[\"I get reborn after every compilation\",\"hey!\",\"my owners are averagely 20 years!\"],\n",
    "\"name\":[\"you can call me Medbot!\",\"i am Medbot!\",\"i am Medbot your medical assistant\"],\n",
    "\"common cold symptoms\":[\"It seems that you are suffering from common cold\"],\n",
    "\"fever symptoms\":[\"It seems that you are suffering from fever\"],\n",
    "\"Diabetes symptoms\":[\"It seems that you are suffering from Diabetes\"],\n",
    "\"Depression symptoms\":[\"It seem that you are suffering from depression\"],\n",
    "\"Asthma symptoms\":[\"It seem that you are suffering from Asthma\"],\n",
    "\"common cold prevention\":[\"medicines you can consume : Dextromethorphan,Decongestant,Diphenhydramine,Crocin Cold & Flu Max, preventions that you must follow :Wash your hands,Avoid touching your face,Clean frequently used surfaces,Use hand sanitizers,SUGGESTED FOODS ARE:Garlic,Vitamin C–containing fruits,Leafy greens,Broccoli,Oatmeal,Spices,Chicken Soup\"],\n",
    "\"fever prevention\":[\"medicines you can consume : acetaminophen ,ibuprofen,aspirin,Crocin Cold & Flu Max, prevention that you must follow :Wash your hands,Cover your mouth when you cough and your nose when you sneeze,Clean frequently used surfaces,Avoid sharing cups, glasses, and eating utensils with other people.,SUGGESTED FOODS ARE:Garlic,Vitamin C–containing fruits,Leafy greens,Broccoli,Oatmeal,Spices,Chicken Soup\"],\n",
    "\"diabetes prevention\":[\"medicines you can consume : Insulin ,Amylinomimetic drug,Dipeptidyl peptidase-4 (DPP-4) inhibitor, prevention that you must follow :Cut Sugar and Refined Carbs From Your Diet,Work Out Regularly,Drink Water as Your Primary Beverage,Lose Weight If You’re Overweight or Obese,Quit Smoking, Follow a Very-Low-Carb Diet,Watch Portion Sizes,SUGGESTED FOODS ARE:Leafy greens,Avocados,Eggs\"],\n",
    "\"depression prevention\":[\"medicines you can consume :  brexpiprazole, quetiapine,olanzapine, prevention that you must follow :Exercise regularly,Cut back on social media time,Drink Water as Your Primary Beverage,Build strong relationships,Minimize your daily choices, Follow a Very-Low-Carb Diet,SUGGESTED FOODS ARE:Get Enough Vitamin D,Include Omega-3 Fatty Acids,Beans and legumes\"],\n",
    "\"asthma prevention\":[\"medicines you can consume : epinephrine,anticholinergic,Proair HFA, prevention that you must follow : Identify Asthma Triggers, Stay Away From Allergens,Avoid Smoke of Any Type,SUGGESTED FOODS ARE:carrots,juice,eggs,broccoli,cantaloupe,milk\"],\n",
    "\"Consultation\":[\"You can contact various doctors here for any kind of consultation: 1. https://www.1mg.com/online-doctor-consultation, 2. https://www.tatahealth.com/online-doctor-consultation/general-physician, 3. https://www.doconline.com/, or you can pay a visit to your local area doctor or family doctor.\"],\n",
    "\n",
    "        \n",
    "}"
   ]
  },
  {
   "cell_type": "code",
   "execution_count": 16,
   "id": "a7013c58",
   "metadata": {},
   "outputs": [],
   "source": [
    "while True:\n",
    "    print(\"CHATBOT\")\n",
    "    q = input() #HI\n",
    "    q = q.lower() #hi\n",
    "    q = q.split(' ')\n",
    "    selected_intent=''\n",
    "    for intent, keywords in intents.items():\n",
    "        if q in keywords:\n",
    "            selected_intent += intent #greeting will be selected intent now\n",
    "            break\n",
    "    print(\"chatbot: \",random.choice(responses[selected_intent])) #list of responses for 'greeting'"
   ]
  },
  {
   "cell_type": "code",
   "execution_count": null,
   "id": "48da3e56",
   "metadata": {},
   "outputs": [],
   "source": []
  },
  {
   "cell_type": "code",
   "execution_count": null,
   "id": "290cec9b",
   "metadata": {},
   "outputs": [],
   "source": []
  },
  {
   "cell_type": "code",
   "execution_count": null,
   "id": "84dc2552",
   "metadata": {},
   "outputs": [],
   "source": []
  }
 ],
 "metadata": {
  "kernelspec": {
   "display_name": "Python 3 (ipykernel)",
   "language": "python",
   "name": "python3"
  },
  "language_info": {
   "codemirror_mode": {
    "name": "ipython",
    "version": 3
   },
   "file_extension": ".py",
   "mimetype": "text/x-python",
   "name": "python",
   "nbconvert_exporter": "python",
   "pygments_lexer": "ipython3",
   "version": "3.9.18"
  }
 },
 "nbformat": 4,
 "nbformat_minor": 5
}
