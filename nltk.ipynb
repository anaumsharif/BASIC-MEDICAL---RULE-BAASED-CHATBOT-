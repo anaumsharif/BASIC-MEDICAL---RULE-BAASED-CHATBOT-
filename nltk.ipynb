{
 "cells": [
  {
   "cell_type": "code",
   "execution_count": 1,
   "id": "f8aaa0de-f6bb-4f3b-8cec-385805173ef7",
   "metadata": {},
   "outputs": [],
   "source": [
    "import nltk "
   ]
  },
  {
   "cell_type": "code",
   "execution_count": 2,
   "id": "3202a8e8-42ee-4fd8-90ab-be102ac4431a",
   "metadata": {},
   "outputs": [],
   "source": [
    "from nltk.corpus import wordnet "
   ]
  },
  {
   "cell_type": "code",
   "execution_count": 3,
   "id": "10bfd697-2a51-4fed-be2a-0e74b795ed8a",
   "metadata": {},
   "outputs": [],
   "source": [
    "syns =  wordnet.synsets('afternoon')[0]"
   ]
  },
  {
   "cell_type": "code",
   "execution_count": 5,
   "id": "50c7e62d-c209-4365-a334-36e07bfce130",
   "metadata": {},
   "outputs": [
    {
     "data": {
      "text/plain": [
       "nltk.corpus.reader.wordnet.Synset"
      ]
     },
     "execution_count": 5,
     "metadata": {},
     "output_type": "execute_result"
    }
   ],
   "source": [
    "type(syns)"
   ]
  },
  {
   "cell_type": "code",
   "execution_count": 6,
   "id": "0f5608da-189d-4cc3-8066-05970864f9ee",
   "metadata": {},
   "outputs": [
    {
     "data": {
      "text/plain": [
       "'the part of the day between noon and evening'"
      ]
     },
     "execution_count": 6,
     "metadata": {},
     "output_type": "execute_result"
    }
   ],
   "source": [
    "syns.definition()"
   ]
  },
  {
   "cell_type": "code",
   "execution_count": 7,
   "id": "2c4f1829-f94c-4bc3-b51b-c120756bb84a",
   "metadata": {},
   "outputs": [
    {
     "data": {
      "text/plain": [
       "['he spent a quiet afternoon in the park']"
      ]
     },
     "execution_count": 7,
     "metadata": {},
     "output_type": "execute_result"
    }
   ],
   "source": [
    "syns.examples()"
   ]
  },
  {
   "cell_type": "code",
   "execution_count": 8,
   "id": "7fb9e614-447e-4051-bc6d-5b33bbeea6a9",
   "metadata": {},
   "outputs": [
    {
     "data": {
      "text/plain": [
       "[Synset('day.n.04')]"
      ]
     },
     "execution_count": 8,
     "metadata": {},
     "output_type": "execute_result"
    }
   ],
   "source": [
    "syns.hypernyms()"
   ]
  },
  {
   "cell_type": "code",
   "execution_count": 9,
   "id": "e49ff0d9-c0bb-41f9-b6ec-f7ba5520b90e",
   "metadata": {},
   "outputs": [
    {
     "data": {
      "text/plain": [
       "'n'"
      ]
     },
     "execution_count": 9,
     "metadata": {},
     "output_type": "execute_result"
    }
   ],
   "source": [
    "syns.pos()"
   ]
  },
  {
   "cell_type": "code",
   "execution_count": 12,
   "id": "d50fbcac-107d-4e78-8a67-41df978ce809",
   "metadata": {},
   "outputs": [],
   "source": [
    "syns =  wordnet.synsets('writing')[0]"
   ]
  },
  {
   "cell_type": "code",
   "execution_count": 13,
   "id": "52a427b9-06c6-4bee-9cb7-67af69610b6c",
   "metadata": {},
   "outputs": [
    {
     "data": {
      "text/plain": [
       "['writing was a form of therapy for him',\n",
       " 'it was a matter of disputed authorship']"
      ]
     },
     "execution_count": 13,
     "metadata": {},
     "output_type": "execute_result"
    }
   ],
   "source": [
    "syns.examples()"
   ]
  },
  {
   "cell_type": "code",
   "execution_count": null,
   "id": "aaa80114-8666-420b-8f9b-856f1d4b1e72",
   "metadata": {},
   "outputs": [],
   "source": []
  }
 ],
 "metadata": {
  "kernelspec": {
   "display_name": "Python 3 (ipykernel)",
   "language": "python",
   "name": "python3"
  },
  "language_info": {
   "codemirror_mode": {
    "name": "ipython",
    "version": 3
   },
   "file_extension": ".py",
   "mimetype": "text/x-python",
   "name": "python",
   "nbconvert_exporter": "python",
   "pygments_lexer": "ipython3",
   "version": "3.9.18"
  }
 },
 "nbformat": 4,
 "nbformat_minor": 5
}
